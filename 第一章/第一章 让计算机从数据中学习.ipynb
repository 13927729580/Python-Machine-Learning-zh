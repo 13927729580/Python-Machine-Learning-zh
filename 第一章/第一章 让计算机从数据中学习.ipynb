{
 "cells": [
  {
   "cell_type": "markdown",
   "metadata": {},
   "source": [
    "# 让计算机从数据中学习"
   ]
  },
  {
   "cell_type": "markdown",
   "metadata": {},
   "source": [
    "我个人认为，机器学习(machine learning)是计算机领域中最令人振奋的方向！我们生活在一个数据爆炸的时代，通过运用机器学习领域中的学习算法，我们可以把数据转化成知识。 \n",
    "\n",
    "这一章，我们将学习机器学习的一些重要概念和几类常用算法。最主要的是可以借助Python和开源机器学习库来解决实际的问题。\n",
    "\n",
    "我们要讲到的主题包括：\n",
    "* 机器学习的一些概念\n",
    "* 三类机器学习算法\n",
    "* 如何设计一个成熟的机器学习系统"
   ]
  },
  {
   "cell_type": "markdown",
   "metadata": {},
   "source": [
    " "
   ]
  },
  {
   "cell_type": "markdown",
   "metadata": {},
   "source": [
    "## 建立智能机器将数据转化为知识\n",
    "\n",
    "如今，我们最不缺的就是数据：不论是结构化数据还是非结构数据。在20世纪下半叶，机器学习作为人工智能(artificial intelligence)的子领域诞生了，她的目标是通过学习算法从数据中获取知识，然后对未来进行预测。无需借助人力设计复杂的规则，机器学习能够自动建立模型进行预测。机器学习不但在计算机学科中变得越发重要，她还在我们的日常生活中发挥了很大作用。有了机器学习，我们才能享受到垃圾邮件过滤技术、文字和语音识别技术、网页搜索技术和自动驾驶汽车。\n"
   ]
  },
  {
   "cell_type": "markdown",
   "metadata": {},
   "source": [
    " "
   ]
  },
  {
   "cell_type": "markdown",
   "metadata": {},
   "source": [
    "## 三类机器学习算法\n",
    "\n",
    "\n",
    "\n",
    "\n",
    "\n"
   ]
  },
  {
   "cell_type": "code",
   "execution_count": null,
   "metadata": {
    "collapsed": true
   },
   "outputs": [],
   "source": []
  },
  {
   "cell_type": "code",
   "execution_count": null,
   "metadata": {
    "collapsed": true
   },
   "outputs": [],
   "source": []
  },
  {
   "cell_type": "code",
   "execution_count": null,
   "metadata": {
    "collapsed": true
   },
   "outputs": [],
   "source": []
  },
  {
   "cell_type": "code",
   "execution_count": null,
   "metadata": {
    "collapsed": true
   },
   "outputs": [],
   "source": []
  },
  {
   "cell_type": "code",
   "execution_count": null,
   "metadata": {
    "collapsed": true
   },
   "outputs": [],
   "source": []
  },
  {
   "cell_type": "code",
   "execution_count": null,
   "metadata": {
    "collapsed": true
   },
   "outputs": [],
   "source": []
  }
 ],
 "metadata": {
  "kernelspec": {
   "display_name": "Python 2",
   "language": "python",
   "name": "python2"
  },
  "language_info": {
   "codemirror_mode": {
    "name": "ipython",
    "version": 2
   },
   "file_extension": ".py",
   "mimetype": "text/x-python",
   "name": "python",
   "nbconvert_exporter": "python",
   "pygments_lexer": "ipython2",
   "version": "2.7.12"
  }
 },
 "nbformat": 4,
 "nbformat_minor": 2
}
